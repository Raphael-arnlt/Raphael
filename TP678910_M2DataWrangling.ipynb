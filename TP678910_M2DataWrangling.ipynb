{
  "metadata": {
    "kernelspec": {
      "name": "python",
      "display_name": "Python (Pyodide)",
      "language": "python"
    },
    "language_info": {
      "codemirror_mode": {
        "name": "python",
        "version": 3
      },
      "file_extension": ".py",
      "mimetype": "text/x-python",
      "name": "python",
      "nbconvert_exporter": "python",
      "pygments_lexer": "ipython3",
      "version": "3.8"
    },
    "prev_pub_hash": "90ac80ca41fde58b95f02cc0cfc0a0f2ed3115615ffe1bdfdfc10fd5ffeef9a4"
  },
  "nbformat_minor": 4,
  "nbformat": 4,
  "cells": [
    {
      "cell_type": "code",
      "source": "import pandas as pd",
      "metadata": {
        "trusted": true
      },
      "outputs": [],
      "execution_count": 16
    },
    {
      "cell_type": "code",
      "source": "from pyodide.http import pyfetch\n\nasync def download(url, filename):\n    response = await pyfetch(url)\n    if response.status == 200:\n        with open(filename, \"wb\") as f:\n            f.write(await response.bytes())",
      "metadata": {
        "trusted": true
      },
      "outputs": [],
      "execution_count": 2
    },
    {
      "cell_type": "code",
      "source": "file_path = \"https://cf-courses-data.s3.us.cloud-object-storage.appdomain.cloud/IBM-DA0321EN-SkillsNetwork/LargeData/m1_survey_data.csv\"",
      "metadata": {
        "trusted": true
      },
      "outputs": [],
      "execution_count": 3
    },
    {
      "cell_type": "code",
      "source": "await download(file_path, \"m1_survey_data.csv\")\nfile_name=\"m1_survey_data.csv\"",
      "metadata": {
        "trusted": true
      },
      "outputs": [],
      "execution_count": 4
    },
    {
      "cell_type": "code",
      "source": "df = pd.read_csv(file_name)",
      "metadata": {
        "trusted": true
      },
      "outputs": [],
      "execution_count": 5
    },
    {
      "cell_type": "code",
      "source": "#df = pd.read_csv(\"https://cf-courses-data.s3.us.cloud-object-storage.appdomain.cloud/IBM-DA0321EN-SkillsNetwork/LargeData/m1_survey_data.csv\")",
      "metadata": {
        "trusted": true
      },
      "outputs": [],
      "execution_count": null
    },
    {
      "cell_type": "code",
      "source": "num_duplicates = df.duplicated().sum()\nprint(f'Number of identical lines : {num_duplicates}')\n\nnum_rows_after = df_cleaned.shape[0]  # Ou vous pouvez utiliser len(df_cleaned)\nprint(f'Nmber of lines after clean : {num_rows_after}')",
      "metadata": {
        "trusted": true
      },
      "outputs": [
        {
          "name": "stdout",
          "text": "Number of identical lines : 154\nNmber of lines after clean : 11398\n",
          "output_type": "stream"
        }
      ],
      "execution_count": 15
    },
    {
      "cell_type": "code",
      "source": "df_clean = df.drop_duplicates()\nprint(df_clean)",
      "metadata": {
        "trusted": true
      },
      "outputs": [
        {
          "name": "stdout",
          "text": "       Respondent                      MainBranch Hobbyist  \\\n0               4  I am a developer by profession       No   \n1               9  I am a developer by profession      Yes   \n2              13  I am a developer by profession      Yes   \n3              16  I am a developer by profession      Yes   \n4              17  I am a developer by profession      Yes   \n...           ...                             ...      ...   \n11547       25136  I am a developer by profession      Yes   \n11548       25137  I am a developer by profession      Yes   \n11549       25138  I am a developer by profession      Yes   \n11550       25141  I am a developer by profession      Yes   \n11551       25142  I am a developer by profession      Yes   \n\n                                             OpenSourcer  \\\n0                                                  Never   \n1                             Once a month or more often   \n2      Less than once a month but more than once per ...   \n3                                                  Never   \n4      Less than once a month but more than once per ...   \n...                                                  ...   \n11547                                              Never   \n11548                                              Never   \n11549                            Less than once per year   \n11550  Less than once a month but more than once per ...   \n11551  Less than once a month but more than once per ...   \n\n                                              OpenSource          Employment  \\\n0      The quality of OSS and closed source software ...  Employed full-time   \n1      The quality of OSS and closed source software ...  Employed full-time   \n2      OSS is, on average, of HIGHER quality than pro...  Employed full-time   \n3      The quality of OSS and closed source software ...  Employed full-time   \n4      The quality of OSS and closed source software ...  Employed full-time   \n...                                                  ...                 ...   \n11547  OSS is, on average, of HIGHER quality than pro...  Employed full-time   \n11548  The quality of OSS and closed source software ...  Employed full-time   \n11549  The quality of OSS and closed source software ...  Employed full-time   \n11550  OSS is, on average, of LOWER quality than prop...  Employed full-time   \n11551  OSS is, on average, of HIGHER quality than pro...  Employed full-time   \n\n              Country Student  \\\n0       United States      No   \n1         New Zealand      No   \n2       United States      No   \n3      United Kingdom      No   \n4           Australia      No   \n...               ...     ...   \n11547   United States      No   \n11548          Poland      No   \n11549   United States      No   \n11550     Switzerland      No   \n11551  United Kingdom      No   \n\n                                                 EdLevel  \\\n0               Bachelor’s degree (BA, BS, B.Eng., etc.)   \n1      Some college/university study without earning ...   \n2            Master’s degree (MA, MS, M.Eng., MBA, etc.)   \n3            Master’s degree (MA, MS, M.Eng., MBA, etc.)   \n4               Bachelor’s degree (BA, BS, B.Eng., etc.)   \n...                                                  ...   \n11547        Master’s degree (MA, MS, M.Eng., MBA, etc.)   \n11548        Master’s degree (MA, MS, M.Eng., MBA, etc.)   \n11549        Master’s degree (MA, MS, M.Eng., MBA, etc.)   \n11550  Secondary school (e.g. American high school, G...   \n11551          Other doctoral degree (Ph.D, Ed.D., etc.)   \n\n                                          UndergradMajor  ...  \\\n0      Computer science, computer engineering, or sof...  ...   \n1      Computer science, computer engineering, or sof...  ...   \n2      Computer science, computer engineering, or sof...  ...   \n3                                                    NaN  ...   \n4      Computer science, computer engineering, or sof...  ...   \n...                                                  ...  ...   \n11547  Computer science, computer engineering, or sof...  ...   \n11548  Computer science, computer engineering, or sof...  ...   \n11549  Computer science, computer engineering, or sof...  ...   \n11550                                                NaN  ...   \n11551  A natural science (ex. biology, chemistry, phy...  ...   \n\n                                  WelcomeChange  \\\n0       Just as welcome now as I felt last year   \n1       Just as welcome now as I felt last year   \n2      Somewhat more welcome now than last year   \n3       Just as welcome now as I felt last year   \n4       Just as welcome now as I felt last year   \n...                                         ...   \n11547   Just as welcome now as I felt last year   \n11548     A lot more welcome now than last year   \n11549     A lot more welcome now than last year   \n11550  Somewhat less welcome now than last year   \n11551   Just as welcome now as I felt last year   \n\n                                            SONewContent   Age Gender Trans  \\\n0      Tech articles written by other developers;Indu...  22.0    Man    No   \n1                                                    NaN  23.0    Man    No   \n2      Tech articles written by other developers;Cour...  28.0    Man    No   \n3      Tech articles written by other developers;Indu...  26.0    Man    No   \n4      Tech articles written by other developers;Indu...  29.0    Man    No   \n...                                                  ...   ...    ...   ...   \n11547  Tech articles written by other developers;Cour...  36.0    Man    No   \n11548  Tech articles written by other developers;Tech...  25.0    Man    No   \n11549  Tech articles written by other developers;Indu...  34.0    Man    No   \n11550                                                NaN  25.0    Man    No   \n11551  Tech articles written by other developers;Tech...  30.0    Man    No   \n\n                     Sexuality                              Ethnicity  \\\n0      Straight / Heterosexual           White or of European descent   \n1                     Bisexual           White or of European descent   \n2      Straight / Heterosexual           White or of European descent   \n3      Straight / Heterosexual           White or of European descent   \n4      Straight / Heterosexual  Hispanic or Latino/Latina;Multiracial   \n...                        ...                                    ...   \n11547  Straight / Heterosexual           White or of European descent   \n11548  Straight / Heterosexual           White or of European descent   \n11549  Straight / Heterosexual           White or of European descent   \n11550  Straight / Heterosexual           White or of European descent   \n11551                 Bisexual           White or of European descent   \n\n      Dependents           SurveyLength                  SurveyEase  \n0             No  Appropriate in length                        Easy  \n1             No  Appropriate in length  Neither easy nor difficult  \n2            Yes  Appropriate in length                        Easy  \n3             No  Appropriate in length  Neither easy nor difficult  \n4             No  Appropriate in length                        Easy  \n...          ...                    ...                         ...  \n11547         No  Appropriate in length                   Difficult  \n11548         No  Appropriate in length  Neither easy nor difficult  \n11549        Yes               Too long                        Easy  \n11550         No  Appropriate in length                        Easy  \n11551         No  Appropriate in length                        Easy  \n\n[11398 rows x 85 columns]\n",
          "output_type": "stream"
        }
      ],
      "execution_count": 13
    },
    {
      "cell_type": "code",
      "source": "df_clean = df.drop_duplicates()\n\nnum_duplicates_after = df_cleaned.duplicated().sum()\n\nprint(f'Number of identical lines after clean : {num_duplicates_after}')",
      "metadata": {
        "trusted": true
      },
      "outputs": [
        {
          "name": "stdout",
          "text": "Nombre de lignes dupliquées après suppression : 0\n",
          "output_type": "stream"
        }
      ],
      "execution_count": 12
    },
    {
      "cell_type": "code",
      "source": "missing_values = df.isnull().sum()\nprint(missing_values)",
      "metadata": {
        "trusted": true
      },
      "outputs": [
        {
          "name": "stdout",
          "text": "Respondent        0\nMainBranch        0\nHobbyist          0\nOpenSourcer       0\nOpenSource       81\n               ... \nSexuality       547\nEthnicity       683\nDependents      144\nSurveyLength     19\nSurveyEase       14\nLength: 85, dtype: int64\n",
          "output_type": "stream"
        }
      ],
      "execution_count": 17
    },
    {
      "cell_type": "code",
      "source": "missing_workloc = df['WorkLoc'].isnull().sum()\nprint(f'missing values in WorkLoc column : {missing_workloc}')",
      "metadata": {
        "trusted": true
      },
      "outputs": [
        {
          "name": "stdout",
          "text": "missing values in WorkLoc column : 32\n",
          "output_type": "stream"
        }
      ],
      "execution_count": 19
    },
    {
      "cell_type": "code",
      "source": "workloc_counts = df['WorkLoc'].value_counts()\nprint(workloc_counts)",
      "metadata": {
        "trusted": true
      },
      "outputs": [
        {
          "name": "stdout",
          "text": "WorkLoc\nOffice                                            6905\nHome                                              3638\nOther place, such as a coworking space or cafe     977\nName: count, dtype: int64\n",
          "output_type": "stream"
        }
      ],
      "execution_count": 20
    },
    {
      "cell_type": "code",
      "source": "most_frequent_workloc = df['WorkLoc'].value_counts().idxmax()\nprint(f'most frequent value WorkLoc column : {most_frequent_workloc}')\n",
      "metadata": {
        "trusted": true
      },
      "outputs": [
        {
          "name": "stdout",
          "text": "most frequent value WorkLoc column : Office\n",
          "output_type": "stream"
        }
      ],
      "execution_count": 21
    },
    {
      "cell_type": "code",
      "source": "most_frequent_workloc = df['WorkLoc'].mode()[0]\ndf['WorkLoc'] = df['WorkLoc'].fillna(most_frequent_workloc)",
      "metadata": {
        "trusted": true
      },
      "outputs": [],
      "execution_count": 24
    },
    {
      "cell_type": "markdown",
      "source": "After imputation there should ideally not be any empty rows in the WorkLoc column.\n",
      "metadata": {}
    },
    {
      "cell_type": "code",
      "source": "missing_workloc_after = df['WorkLoc'].isnull().sum()\nprint(f'Nombre de lignes manquantes dans la colonne WorkLoc après imputation : {missing_workloc_after}')",
      "metadata": {
        "trusted": true
      },
      "outputs": [
        {
          "name": "stdout",
          "text": "Nombre de lignes manquantes dans la colonne WorkLoc après imputation : 0\n",
          "output_type": "stream"
        }
      ],
      "execution_count": 25
    },
    {
      "cell_type": "code",
      "source": "compfreq_categories = df['CompFreq'].unique()\nprint(compfreq_categories)",
      "metadata": {
        "trusted": true
      },
      "outputs": [
        {
          "name": "stdout",
          "text": "['Yearly' 'Monthly' 'Weekly' nan]\n",
          "output_type": "stream"
        }
      ],
      "execution_count": 26
    },
    {
      "cell_type": "code",
      "source": "df['NormalizedAnnualCompensation'] = df.apply(\n    lambda row: row['CompTotal'] if row['CompFreq'] == 'Yearly' else\n                 row['CompTotal'] * 12 if row['CompFreq'] == 'Monthly' else\n                 row['CompTotal'] * 52 if row['CompFreq'] == 'Weekly' else\n                 None,\n    axis=1\n)\n\nprint(df[['CompFreq', 'CompTotal', 'NormalizedAnnualCompensation']])\n",
      "metadata": {
        "trusted": true
      },
      "outputs": [
        {
          "name": "stdout",
          "text": "      CompFreq  CompTotal  NormalizedAnnualCompensation\n0       Yearly    61000.0                       61000.0\n1       Yearly   138000.0                      138000.0\n2       Yearly    90000.0                       90000.0\n3      Monthly    29000.0                      348000.0\n4       Yearly    90000.0                       90000.0\n...        ...        ...                           ...\n11547   Yearly   130000.0                      130000.0\n11548   Yearly    74400.0                       74400.0\n11549   Yearly   105000.0                      105000.0\n11550   Yearly    80000.0                       80000.0\n11551      NaN        NaN                           NaN\n\n[11552 rows x 3 columns]\n",
          "output_type": "stream"
        }
      ],
      "execution_count": 29
    },
    {
      "cell_type": "markdown",
      "source": "<!--## Change Log\n",
      "metadata": {}
    },
    {
      "cell_type": "markdown",
      "source": "<!--| Date (YYYY-MM-DD) | Version | Changed By        | Change Description                 |\n| ----------------- | ------- | ----------------- | ---------------------------------- |\n| 2020-10-17        | 0.1     | Ramesh Sannareddy | Created initial version of the lab |--!>\n",
      "metadata": {}
    },
    {
      "cell_type": "code",
      "source": "",
      "metadata": {
        "trusted": true
      },
      "outputs": [],
      "execution_count": null
    }
  ]
}